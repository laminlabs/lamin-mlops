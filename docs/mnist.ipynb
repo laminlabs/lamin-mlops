{
 "cells": [
  {
   "cell_type": "markdown",
   "id": "9bff135177a7ae90",
   "metadata": {},
   "source": [
    "# Curate MNIST"
   ]
  },
  {
   "cell_type": "code",
   "execution_count": null,
   "id": "70d1428ec774d35",
   "metadata": {
    "tags": [
     "hide-output"
    ]
   },
   "outputs": [],
   "source": [
    "# !pip install -q 'lamindb[jupyter,aws]' torch torchvision lightning wandb\n",
    "!lamin init --storage ./lamin-mlops"
   ]
  },
  {
   "cell_type": "code",
   "execution_count": null,
   "id": "32efa3d458f7d713",
   "metadata": {
    "tags": [
     "hide-output"
    ]
   },
   "outputs": [],
   "source": [
    "import lamindb as ln\n",
    "from pathlib import Path\n",
    "\n",
    "ln.track()"
   ]
  },
  {
   "cell_type": "markdown",
   "id": "04b3f68c-6e10-4b95-a4f5-729704690a25",
   "metadata": {},
   "source": [
    "Download the MNIST dataset and save it in LaminDB to keep track of the training data that is associated with our model."
   ]
  },
  {
   "cell_type": "code",
   "execution_count": null,
   "id": "bb93f93b-ac75-43be-a91c-3afaf5e87904",
   "metadata": {
    "tags": [
     "hide-output"
    ]
   },
   "outputs": [],
   "source": [
    "from torchvision.datasets import MNIST\n",
    "from torchvision.transforms import ToTensor\n",
    "dataset = MNIST(Path.cwd() / \"download_mnist\", download=True, transform=ToTensor())"
   ]
  },
  {
   "cell_type": "code",
   "execution_count": null,
   "id": "a44e8d3e",
   "metadata": {},
   "outputs": [],
   "source": [
    "# no need for the zipped files\n",
    "!rm -r download_mnist/MNIST/raw/*.gz\n",
    "!ls -r download_mnist/MNIST/raw"
   ]
  },
  {
   "cell_type": "code",
   "execution_count": null,
   "id": "93e0bbe9-3429-431b-addf-8f75652c8df9",
   "metadata": {
    "tags": [
     "hide-output"
    ]
   },
   "outputs": [],
   "source": [
    "training_data_artifact = ln.Artifact(\n",
    "    \"download_mnist/\",\n",
    "    key=\"testdata/mnist\",\n",
    "    type=\"dataset\",\n",
    ").save()\n",
    "training_data_artifact"
   ]
  },
  {
   "cell_type": "markdown",
   "id": "7b03ee9c-eadd-479f-beca-ad84e4118a6e",
   "metadata": {},
   "source": [
    "**After saving the MNIST training dataset in LaminDB, one can see the dataset showing up in LaminHub:**\n",
    "\n",
    "<img src=\"https://lamin-site-assets.s3.amazonaws.com/.lamindb/LlMSvBjHuXbs36TBGoCM.png\" width=\"800px\">"
   ]
  },
  {
   "cell_type": "code",
   "execution_count": null,
   "id": "54d18058",
   "metadata": {},
   "outputs": [],
   "source": [
    "# save your notebook\n",
    "# ln.finish()"
   ]
  }
 ],
 "metadata": {
  "kernelspec": {
   "display_name": "Python 3 (ipykernel)",
   "language": "python",
   "name": "python3"
  },
  "language_info": {
   "codemirror_mode": {
    "name": "ipython",
    "version": 3
   },
   "file_extension": ".py",
   "mimetype": "text/x-python",
   "name": "python",
   "nbconvert_exporter": "python",
   "pygments_lexer": "ipython3",
   "version": "3.10.13"
  }
 },
 "nbformat": 4,
 "nbformat_minor": 5
}
