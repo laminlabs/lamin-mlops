{
 "cells": [
  {
   "cell_type": "markdown",
   "id": "ec40f398",
   "metadata": {},
   "source": [
    "# Croissant"
   ]
  },
  {
   "cell_type": "markdown",
   "id": "86111f22",
   "metadata": {},
   "source": [
    "[Croissant 🥐](https://github.com/mlcommons/croissant) is a high-level format building on [schema.org](https://schema.org) for machine learning datasets that combines metadata, resource file descriptions, data structure, and default ML semantics into a single file.\n",
    "It works with existing datasets to make them easier to find, use, and support with tools.\n",
    "\n",
    "Here, we demonstrate how LaminDB can be used to validate Croissant files:"
   ]
  },
  {
   "cell_type": "code",
   "execution_count": null,
   "id": "7c2638dd",
   "metadata": {
    "tags": [
     "hide-output"
    ]
   },
   "outputs": [],
   "source": [
    "!lamin init --storage ./lamin-croissant"
   ]
  },
  {
   "cell_type": "code",
   "execution_count": null,
   "id": "26c11940",
   "metadata": {
    "tags": [
     "hide-output"
    ]
   },
   "outputs": [],
   "source": [
    "import lamindb as ln\n",
    "import json\n",
    "\n",
    "ln.track()"
   ]
  },
  {
   "cell_type": "code",
   "execution_count": null,
   "id": "104d22e3",
   "metadata": {
    "tags": [
     "hide-output"
    ]
   },
   "outputs": [],
   "source": [
    "croissant_path, dataset1_path = ln.examples.croissant.mini_immuno()\n",
    "croissant_path"
   ]
  },
  {
   "cell_type": "code",
   "execution_count": null,
   "id": "ba212cea",
   "metadata": {
    "tags": [
     "hide-output"
    ]
   },
   "outputs": [],
   "source": [
    "with open(croissant_path) as f:\n",
    "    dictionary = json.load(f)\n",
    "\n",
    "print(json.dumps(dictionary, indent=2))"
   ]
  },
  {
   "cell_type": "code",
   "execution_count": null,
   "id": "1b85a2fb",
   "metadata": {
    "tags": [
     "hide-output"
    ]
   },
   "outputs": [],
   "source": [
    "dataset1_path"
   ]
  },
  {
   "cell_type": "code",
   "execution_count": null,
   "id": "4d77bd78",
   "metadata": {
    "tags": [
     "hide-output"
    ]
   },
   "outputs": [],
   "source": [
    "artifact = ln.integrations.curate_from_croissant(croissant_path)"
   ]
  },
  {
   "cell_type": "markdown",
   "id": "f7ee07a8",
   "metadata": {},
   "source": [
    "Project label, license, description, version tag, and file paths are automatically extracted from the Croissant file.\n",
    "More metadata can be supported in the future."
   ]
  },
  {
   "cell_type": "code",
   "execution_count": null,
   "id": "2fc161a9",
   "metadata": {
    "tags": [
     "hide-output"
    ]
   },
   "outputs": [],
   "source": [
    "artifact.describe()"
   ]
  },
  {
   "cell_type": "code",
   "execution_count": null,
   "id": "92e9e9b7",
   "metadata": {
    "tags": [
     "hide-output"
    ]
   },
   "outputs": [],
   "source": [
    "ln.finish()"
   ]
  },
  {
   "cell_type": "code",
   "execution_count": null,
   "id": "d4444580",
   "metadata": {
    "tags": [
     "hide-cell"
    ]
   },
   "outputs": [],
   "source": [
    "!rm -rf ./lamin-croissant\n",
    "!lamin delete --force lamin-croissant"
   ]
  }
 ],
 "metadata": {
  "kernelspec": {
   "display_name": "lamindb",
   "language": "python",
   "name": "python3"
  },
  "language_info": {
   "codemirror_mode": {
    "name": "ipython",
    "version": 3
   },
   "file_extension": ".py",
   "mimetype": "text/x-python",
   "name": "python",
   "nbconvert_exporter": "python",
   "pygments_lexer": "ipython3",
   "version": "3.12.8"
  }
 },
 "nbformat": 4,
 "nbformat_minor": 5
}
